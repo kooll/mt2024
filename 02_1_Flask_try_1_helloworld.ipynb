{
  "cells": [
    {
      "cell_type": "markdown",
      "metadata": {
        "id": "view-in-github",
        "colab_type": "text"
      },
      "source": [
        "<a href=\"https://colab.research.google.com/github/kooll/mt2024/blob/main/02_1_Flask_try_1_helloworld.ipynb\" target=\"_parent\"><img src=\"https://colab.research.google.com/assets/colab-badge.svg\" alt=\"Open In Colab\"/></a>"
      ]
    },
    {
      "cell_type": "markdown",
      "source": [
        "# 1.必要な道具を揃える[環境準備]\n",
        "\n",
        "1.  Flaskのインストール\n",
        "2.  Python用ngrokライブラリpyngrokのインストール\n",
        "3.  必要なモジュールのimport\n"
      ],
      "metadata": {
        "id": "LqahVFAAdpcu"
      }
    },
    {
      "cell_type": "code",
      "source": [
        "#@title 1,2 Flask, pyngrokのインストール\n",
        "!pip install flask pyngrok\n"
      ],
      "metadata": {
        "id": "Z8JSlTakoMbi"
      },
      "execution_count": null,
      "outputs": []
    },
    {
      "cell_type": "markdown",
      "source": [],
      "metadata": {
        "id": "DXLbLjWgI9EH"
      }
    },
    {
      "cell_type": "code",
      "source": [
        "# @title 3.必要なモジュールのimport\n",
        "import os\n",
        "# flaskからFlaskクラスをインポート\n",
        "from flask import Flask\n",
        "# pyngrokからngrokモジュールとconfモジュールをインポート\n",
        "from pyngrok import ngrok, conf"
      ],
      "metadata": {
        "id": "7z_Qv9BOIurs"
      },
      "execution_count": null,
      "outputs": []
    },
    {
      "cell_type": "markdown",
      "source": [
        "# 2.設定\n"
      ],
      "metadata": {
        "id": "AW8HioqWNcww"
      }
    },
    {
      "cell_type": "code",
      "execution_count": 16,
      "metadata": {
        "id": "6beRBvwEX9h4"
      },
      "outputs": [],
      "source": [
        "# @title ngrokトークンを設定\n",
        "conf.get_default().auth_token = \"2lZ0EoicZBYZtX7cMif2IDlWgHA_214Za4Zjav4VXqbiLxm3W\" # @param {type:\"string\"}\n",
        "\n"
      ]
    },
    {
      "cell_type": "markdown",
      "source": [
        "# Flaskのフレームワーク（枠組み）に沿ってアプリのプログラムを書く[アプリ]\n"
      ],
      "metadata": {
        "id": "sGqmSjreNpO8"
      }
    },
    {
      "cell_type": "code",
      "source": [
        "# @title Flaskクラスのインスタンスをつくって app 変数に入れる\n",
        "\n",
        "app = Flask(__name__)\n",
        "\n"
      ],
      "metadata": {
        "id": "gk-Swh4DbBTC"
      },
      "execution_count": 17,
      "outputs": []
    },
    {
      "cell_type": "code",
      "source": [
        "# @title フレームワークに自分のアプリのためのプログラムを追加する\n",
        "# /（ルート）にアクセスしたら次に書く関数(hello_world)を実行するという宣言\n",
        "@app.route(\"/\")\n",
        "def hello_world():\n",
        "    return \"<p>Hello, World!</p>\" # <p>タグで囲まれたHTMLをレスポンスとして返す"
      ],
      "metadata": {
        "id": "C1jd2YAZN7F2"
      },
      "execution_count": 18,
      "outputs": []
    },
    {
      "cell_type": "markdown",
      "source": [
        "# 3. プログラムを実行してアプリを立ち上げる　[実行]"
      ],
      "metadata": {
        "id": "irPp5xw8qK8L"
      }
    },
    {
      "cell_type": "code",
      "source": [
        "# @title ngrokにトンネルを繋いでアプリを起動する\n",
        "if __name__ == \"__main__\":\n",
        "    public_url = ngrok.connect(5000) #ngrokのトンネルを繋ぐ\n",
        "    print(f\"ngrok URL: {public_url}\")\n",
        "    app.run(port=5000) # 5000番ポートでアプリを起動"
      ],
      "metadata": {
        "id": "T4UiEnkIbCYM",
        "colab": {
          "base_uri": "https://localhost:8080/"
        },
        "outputId": "d89d38e8-c11d-4a23-a7e5-157481635641"
      },
      "execution_count": null,
      "outputs": [
        {
          "output_type": "stream",
          "name": "stdout",
          "text": [
            "ngrok URL: NgrokTunnel: \"https://d1f4-34-125-21-128.ngrok-free.app\" -> \"http://localhost:5000\"\n",
            " * Serving Flask app '__main__'\n",
            " * Debug mode: off\n"
          ]
        },
        {
          "output_type": "stream",
          "name": "stderr",
          "text": [
            "INFO:werkzeug:\u001b[31m\u001b[1mWARNING: This is a development server. Do not use it in a production deployment. Use a production WSGI server instead.\u001b[0m\n",
            " * Running on http://127.0.0.1:5000\n",
            "INFO:werkzeug:\u001b[33mPress CTRL+C to quit\u001b[0m\n",
            "INFO:werkzeug:127.0.0.1 - - [10/Sep/2024 11:04:47] \"GET / HTTP/1.1\" 200 -\n",
            "INFO:werkzeug:127.0.0.1 - - [10/Sep/2024 11:04:48] \"\u001b[33mGET /favicon.ico HTTP/1.1\u001b[0m\" 404 -\n"
          ]
        }
      ]
    }
  ],
  "metadata": {
    "colab": {
      "provenance": [],
      "include_colab_link": true
    },
    "kernelspec": {
      "display_name": "Python 3",
      "name": "python3"
    },
    "language_info": {
      "name": "python"
    }
  },
  "nbformat": 4,
  "nbformat_minor": 0
}