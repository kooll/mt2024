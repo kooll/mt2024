{
  "cells": [
    {
      "cell_type": "markdown",
      "metadata": {
        "id": "view-in-github",
        "colab_type": "text"
      },
      "source": [
        "<a href=\"https://colab.research.google.com/github/kooll/mt2024/blob/main/test.ipynb\" target=\"_parent\"><img src=\"https://colab.research.google.com/assets/colab-badge.svg\" alt=\"Open In Colab\"/></a>"
      ]
    },
    {
      "cell_type": "markdown",
      "id": "1331faa1",
      "metadata": {
        "id": "1331faa1"
      },
      "source": [
        "\n",
        "これはテストです。 chapter12 の作業中です。\n",
        "\n",
        "Think Python 3e*の印刷版と電子書籍版は、[Bookshop.org](https://bookshop.org/a/98697/9781098155438)や[Amazon](https://www.amazon.com/_/dp/1098155432?smid=ATVPDKIKX0DER&_encoding=UTF8&tag=oreilly20-20&_encoding=UTF8&tag=greenteapre01-20&linkCode=ur2&linkId=e2a529f94920295d27ec8a06e757dc7c&camp=1789&creative=9325)から注文できます。"
      ]
    },
    {
      "cell_type": "code",
      "execution_count": null,
      "id": "6c6265de",
      "metadata": {
        "tags": [],
        "id": "6c6265de"
      },
      "outputs": [],
      "source": [
        "from os.path import basename, exists\n",
        "\n",
        "def download(url):\n",
        "    filename = basename(url)\n",
        "    if not exists(filename):\n",
        "        from urllib.request import urlretrieve\n",
        "\n",
        "        local, _ = urlretrieve(url, filename)\n",
        "        print(\"Downloaded \" + str(local))\n",
        "    return filename\n",
        "\n",
        "download('https://github.com/AllenDowney/ThinkPython/raw/v3/thinkpython.py');\n",
        "download('https://github.com/AllenDowney/ThinkPython/raw/v3/diagram.py');\n",
        "\n",
        "import thinkpython"
      ]
    },
    {
      "cell_type": "markdown",
      "id": "59a8621b",
      "metadata": {
        "id": "59a8621b"
      },
      "source": [
        "# テキスト解析と生成\n",
        "\n",
        "この時点で、Python の主要なデータ構造（リスト、辞書、タプル）と、それを使用するいくつかのアルゴリズムをカバーしました。\n",
        "この章では、それらを用いてテキスト解析とマルコフ生成を探求します:\n",
        "\n",
        "* テキスト解析は、文書中の単語間の統計的な関係を説明する方法で、例えばある単語の後に他の単語が続く確率などが含まれます。\n",
        "\n",
        "* マルコフ生成は、元のテキストに似た単語やフレーズを用いて新しいテキストを生成する方法です。\n",
        "\n",
        "これらのアルゴリズムは、チャットボットの主要な構成要素である大規模言語モデル（LLM）の一部と類似しています。\n",
        "\n",
        "まず、本の中で各単語が出現する回数を数えることから始めます。\n",
        "次に、単語のペアを見て、それぞれの単語に続く可能性のある単語のリストを作成します。\n",
        "簡単なマルコフ生成器のバージョンを作成し、練習として、より一般的なバージョンを作成する機会を持つようにします。"
      ]
    },
    {
      "cell_type": "markdown",
      "id": "0e3811b8",
      "metadata": {
        "id": "0e3811b8"
      },
      "source": [
        "ユニークな単語\n",
        "\n",
        "テキスト分析の第一歩として、本を読みましょう。ロバート・ルイス・スティーブンソンの『ジキル博士とハイド氏の奇妙な事件』です。そして、ユニークな単語の数を数えましょう。この章のノートブックに本のダウンロード手順があります。"
      ]
    },
    {
      "cell_type": "markdown",
      "id": "6567e1bf",
      "metadata": {
        "tags": [],
        "id": "6567e1bf"
      },
      "source": [
        "次のセルは、Project Gutenbergから本をダウンロードします。"
      ]
    },
    {
      "cell_type": "code",
      "execution_count": null,
      "id": "4cd1c980",
      "metadata": {
        "tags": [],
        "id": "4cd1c980"
      },
      "outputs": [],
      "source": [
        "download('https://www.gutenberg.org/cache/epub/43/pg43.txt');"
      ]
    },
    {
      "cell_type": "markdown",
      "id": "5465ab1d",
      "metadata": {
        "tags": [],
        "id": "5465ab1d"
      },
      "source": [
        "プロジェクト・グーテンベルクから入手できるバージョンには、冒頭に書籍情報が含まれており、最後にライセンス情報があります。これらの部分を削除するために、第8章で説明されている`clean_file`を使用して、書籍のテキストのみを含む「クリーン」ファイルを書きます。"
      ]
    },
    {
      "cell_type": "code",
      "execution_count": null,
      "id": "52ebfe94",
      "metadata": {
        "tags": [],
        "id": "52ebfe94"
      },
      "outputs": [],
      "source": [
        "def is_special_line(line):\n",
        "    return line.strip().startswith('*** ')"
      ]
    },
    {
      "cell_type": "code",
      "execution_count": null,
      "id": "49cfc352",
      "metadata": {
        "tags": [],
        "id": "49cfc352"
      },
      "outputs": [],
      "source": [
        "def clean_file(input_file, output_file):\n",
        "    reader = open(input_file, encoding='utf-8')\n",
        "    writer = open(output_file, 'w')\n",
        "\n",
        "    for line in reader:\n",
        "        if is_special_line(line):\n",
        "            break\n",
        "\n",
        "    for line in reader:\n",
        "        if is_special_line(line):\n",
        "            break\n",
        "        writer.write(line)\n",
        "\n",
        "    reader.close()\n",
        "    writer.close()"
      ]
    },
    {
      "cell_type": "code",
      "execution_count": null,
      "id": "44e53ce6",
      "metadata": {
        "id": "44e53ce6"
      },
      "outputs": [],
      "source": [
        "filename = 'dr_jekyll.txt'"
      ]
    },
    {
      "cell_type": "code",
      "execution_count": null,
      "id": "50d1fafa",
      "metadata": {
        "tags": [],
        "id": "50d1fafa"
      },
      "outputs": [],
      "source": [
        "clean_file('pg43.txt', filename)"
      ]
    },
    {
      "cell_type": "markdown",
      "id": "bc66d7e2",
      "metadata": {
        "id": "bc66d7e2"
      },
      "source": [
        "`for`ループを使用してファイルから行を読み込み、`split`を使って行を単語に分割します。次に、ユニークな単語を管理するために、各単語を辞書のキーとして保存します。"
      ]
    },
    {
      "cell_type": "code",
      "execution_count": null,
      "id": "16d24028",
      "metadata": {
        "id": "16d24028"
      },
      "outputs": [],
      "source": [
        "unique_words = {}\n",
        "for line in open(filename):\n",
        "    seq = line.split()\n",
        "    for word in seq:\n",
        "        unique_words[word] = 1\n",
        "\n",
        "len(unique_words)"
      ]
    },
    {
      "cell_type": "markdown",
      "id": "85171a3a",
      "metadata": {
        "id": "85171a3a"
      },
      "source": [
        "辞書の長さはユニークな単語の数で、これを数える方法では約「6000」あります。\n",
        "しかし、それらを調べると、一部が有効な単語でないことがわかります。\n",
        "\n",
        "例えば、「unique_words」の中で最も長い単語を見てみましょう。\n",
        "単語を長さ順にソートするために、`sorted`を使用し、`len`関数をキーワード引数として渡します。"
      ]
    },
    {
      "cell_type": "code",
      "execution_count": null,
      "id": "1668e6bd",
      "metadata": {
        "id": "1668e6bd"
      },
      "outputs": [],
      "source": [
        "sorted(unique_words, key=len)[-5:]"
      ]
    },
    {
      "cell_type": "markdown",
      "id": "795f5327",
      "metadata": {
        "id": "795f5327"
      },
      "source": [
        "スライスインデックス `[-5:]` は、ソートされたリストの最後の `5` 要素を選択し、これらが最も長い単語です。\n",
        "\n",
        "リストには「circumscription」などの本当に長い単語や、「chocolate-coloured」のようなハイフンでつながれた単語も含まれています。しかし、最も長い「単語」の中には、実際にはダッシュで区切られた2つの単語があります。また、句読点としてピリオド、感嘆符、引用符などが含まれている単語もあります。\n",
        "\n",
        "それでは、次に進む前に、ダッシュやその他の句読点を処理しましょう。"
      ]
    },
    {
      "cell_type": "markdown",
      "id": "bf89fafa",
      "metadata": {
        "id": "bf89fafa"
      },
      "source": [
        "## 句読点\n",
        "\n",
        "テキスト内の単語を識別するためには、次の2つの問題に対処する必要があります。\n",
        "\n",
        "* 行内にダッシュが現れた場合、それをスペースに置き換える必要があります。これにより、`split`を使用した際に単語が分離されます。\n",
        "\n",
        "* 単語を分割した後、`strip`を使用して句読点を削除できます。\n",
        "\n",
        "最初の問題に対処するためには、次のような関数を使用できます。この関数は文字列を取り込み、ダッシュをスペースに置き換え、文字列を分割し、結果のリストを返します。"
      ]
    },
    {
      "cell_type": "code",
      "execution_count": null,
      "id": "ed5f0a43",
      "metadata": {
        "id": "ed5f0a43"
      },
      "outputs": [],
      "source": [
        "def split_line(line):\n",
        "    return line.replace('—', ' ').split()"
      ]
    },
    {
      "cell_type": "markdown",
      "id": "d5decdec",
      "metadata": {
        "id": "d5decdec"
      },
      "source": [
        "「split_line」はダッシュのみを置換し、ハイフンには対応しないことに注意してください。こちらがその例です。"
      ]
    },
    {
      "cell_type": "code",
      "execution_count": null,
      "id": "a9df2aeb",
      "metadata": {
        "id": "a9df2aeb"
      },
      "outputs": [],
      "source": [
        "split_line('coolness—frightened')"
      ]
    },
    {
      "cell_type": "markdown",
      "id": "0d9eb318",
      "metadata": {
        "id": "0d9eb318"
      },
      "source": [
        "さて、各単語の先頭と末尾から句読点を取り除くには、`strip`メソッドを使用できますが、句読点と見なされる文字のリストが必要です。\n",
        "\n",
        "Pythonの文字列内の文字はUnicodeで表されており、これはほぼすべてのアルファベットの文字、数字、記号、句読点などを表すための国際標準です。`unicodedata`モジュールは、文字がどのカテゴリに属しているかを教えてくれる`category`関数を提供しています。文字を入力すると、その文字がどのカテゴリに属しているかを示す文字列を返します。"
      ]
    },
    {
      "cell_type": "code",
      "execution_count": null,
      "id": "b138b123",
      "metadata": {
        "id": "b138b123"
      },
      "outputs": [],
      "source": [
        "import unicodedata\n",
        "\n",
        "unicodedata.category('A')"
      ]
    },
    {
      "cell_type": "markdown",
      "id": "994835ea",
      "metadata": {
        "id": "994835ea"
      },
      "source": [
        "`'A'` のカテゴリ文字列は `'Lu'` です。このうち `'L'` は文字であることを意味し、`'u'` は大文字であることを意味します。\n",
        "\n",
        "`'.'` のカテゴリ文字列は `'Po'` です。このうち `'P'` は句読点であることを意味し、`'o'` はサブカテゴリが「その他」であることを意味します。"
      ]
    },
    {
      "cell_type": "code",
      "execution_count": null,
      "id": "fe65df44",
      "metadata": {
        "id": "fe65df44"
      },
      "outputs": [],
      "source": [
        "unicodedata.category('.')"
      ]
    },
    {
      "cell_type": "markdown",
      "id": "03773b9b",
      "metadata": {
        "id": "03773b9b"
      },
      "source": [
        "本の中の句読点は、カテゴリが `'P'` で始まる文字を探すことで見つけることができます。以下のループでは、一意の句読点を辞書に保存します。"
      ]
    },
    {
      "cell_type": "code",
      "execution_count": null,
      "id": "b47a87cf",
      "metadata": {
        "id": "b47a87cf"
      },
      "outputs": [],
      "source": [
        "punc_marks = {}\n",
        "for line in open(filename):\n",
        "    for char in line:\n",
        "        category = unicodedata.category(char)\n",
        "        if category.startswith('P'):\n",
        "            punc_marks[char] = 1"
      ]
    },
    {
      "cell_type": "markdown",
      "id": "e6741dfa",
      "metadata": {
        "id": "e6741dfa"
      },
      "source": [
        "句読点のリストを作成するには、辞書のキーを文字列として結合することができます。"
      ]
    },
    {
      "cell_type": "code",
      "execution_count": null,
      "id": "348949be",
      "metadata": {
        "id": "348949be"
      },
      "outputs": [],
      "source": [
        "punctuation = ''.join(punc_marks)\n",
        "print(punctuation)"
      ]
    },
    {
      "cell_type": "markdown",
      "id": "6af8d5a2",
      "metadata": {
        "id": "6af8d5a2"
      },
      "source": [
        "本の中でどの文字が句読点であるかを知ったので、単語を受け取り、前後の句読点を取り除き、小文字に変換する関数を書くことができます。"
      ]
    },
    {
      "cell_type": "code",
      "execution_count": null,
      "id": "06121901",
      "metadata": {
        "id": "06121901"
      },
      "outputs": [],
      "source": [
        "def clean_word(word):\n",
        "    return word.strip(punctuation).lower()"
      ]
    },
    {
      "cell_type": "markdown",
      "id": "58a78cb1",
      "metadata": {
        "id": "58a78cb1"
      },
      "source": [
        "こちらが例です。"
      ]
    },
    {
      "cell_type": "code",
      "execution_count": null,
      "id": "881ed9f8",
      "metadata": {
        "id": "881ed9f8"
      },
      "outputs": [],
      "source": [
        "clean_word('“Behold!”')"
      ]
    },
    {
      "cell_type": "markdown",
      "id": "314e4fbd",
      "metadata": {
        "id": "314e4fbd"
      },
      "source": [
        "`strip` は文字列の先頭と末尾の文字を削除するため、ハイフンでつながれた単語はそのまま残ります。"
      ]
    },
    {
      "cell_type": "code",
      "execution_count": null,
      "id": "ab5d2fed",
      "metadata": {
        "id": "ab5d2fed"
      },
      "outputs": [],
      "source": [
        "clean_word('pocket-handkerchief')"
      ]
    },
    {
      "cell_type": "markdown",
      "id": "99050f8a",
      "metadata": {
        "id": "99050f8a"
      },
      "source": [
        "こちらが、`split_line`と`clean_word`を使用して、書籍内のユニークな単語を特定するループです。"
      ]
    },
    {
      "cell_type": "code",
      "execution_count": null,
      "id": "2fdfb936",
      "metadata": {
        "id": "2fdfb936"
      },
      "outputs": [],
      "source": [
        "unique_words2 = {}\n",
        "for line in open(filename):\n",
        "    for word in split_line(line):\n",
        "        word = clean_word(word)\n",
        "        unique_words2[word] = 1\n",
        "\n",
        "len(unique_words2)"
      ]
    },
    {
      "cell_type": "markdown",
      "id": "992e5466",
      "metadata": {
        "id": "992e5466"
      },
      "source": [
        "この厳密な言葉の定義によると、約4000のユニークな単語があります。そして、最長の単語のリストが整理されたことを確認できます。"
      ]
    },
    {
      "cell_type": "code",
      "execution_count": null,
      "id": "3104d191",
      "metadata": {
        "id": "3104d191"
      },
      "outputs": [],
      "source": [
        "sorted(unique_words2, key=len)[-5:]"
      ]
    },
    {
      "cell_type": "markdown",
      "id": "8014c330",
      "metadata": {
        "id": "8014c330"
      },
      "source": [
        "では、各単語が何回使われているか見てみましょう。"
      ]
    },
    {
      "cell_type": "markdown",
      "id": "7ef40180",
      "metadata": {
        "id": "7ef40180"
      },
      "source": [
        "## 単語の出現頻度\n",
        "\n",
        "次のループは、各ユニークな単語の出現頻度を計算します。"
      ]
    },
    {
      "cell_type": "code",
      "execution_count": null,
      "id": "4fba7d1c",
      "metadata": {
        "id": "4fba7d1c"
      },
      "outputs": [],
      "source": [
        "word_counter = {}\n",
        "for line in open(filename):\n",
        "    for word in split_line(line):\n",
        "        word = clean_word(word)\n",
        "        if word not in word_counter:\n",
        "            word_counter[word] = 1\n",
        "        else:\n",
        "            word_counter[word] += 1"
      ]
    },
    {
      "cell_type": "markdown",
      "id": "bd680b81",
      "metadata": {
        "id": "bd680b81"
      },
      "source": [
        "初めて単語を見たとき、その頻度を「1」に初期化します。その後、同じ単語を再び見かけた場合、頻度を増やします。\n",
        "\n",
        "どの単語が最も頻繁に現れるかを確認するために、`items`メソッドを使って`word_counter`からキーと値のペアを取得し、それらをペアの2番目の要素、つまり頻度でソートします。\n",
        "まず、2番目の要素を選択する関数を定義しましょう。"
      ]
    },
    {
      "cell_type": "code",
      "execution_count": null,
      "id": "4be34c95",
      "metadata": {
        "id": "4be34c95"
      },
      "outputs": [],
      "source": [
        "def second_element(t):\n",
        "    return t[1]"
      ]
    },
    {
      "cell_type": "markdown",
      "id": "b15a5bd6",
      "metadata": {
        "id": "b15a5bd6"
      },
      "source": [
        "`sorted` を2つのキーワード引数と共に使用できます：\n",
        "\n",
        "* `key=second_element` は、語の頻度に基づいてアイテムがソートされることを意味します。\n",
        "\n",
        "* `reverse=True` は、アイテムが逆順にソートされ、最も頻度の高い語が最初に来ることを意味します。"
      ]
    },
    {
      "cell_type": "code",
      "execution_count": null,
      "id": "8efe7c4c",
      "metadata": {
        "id": "8efe7c4c"
      },
      "outputs": [],
      "source": [
        "items = sorted(word_counter.items(), key=second_element, reverse=True)"
      ]
    },
    {
      "cell_type": "markdown",
      "id": "db6812e2",
      "metadata": {
        "id": "db6812e2"
      },
      "source": [
        "こちらが最も頻繁に使われる5つの単語です。"
      ]
    },
    {
      "cell_type": "code",
      "execution_count": null,
      "id": "79c17341",
      "metadata": {
        "id": "79c17341"
      },
      "outputs": [],
      "source": [
        "for word, freq in items[:5]:\n",
        "    print(freq, word, sep='\\t')"
      ]
    },
    {
      "cell_type": "markdown",
      "id": "551e81bb",
      "metadata": {
        "id": "551e81bb"
      },
      "source": [
        "次のセクションでは、このループを関数にカプセル化します。そして、それを用いて新機能である「オプションのパラメータ」を示します。"
      ]
    },
    {
      "cell_type": "markdown",
      "id": "45243ccc",
      "metadata": {
        "id": "45243ccc"
      },
      "source": [
        "## オプションのパラメータ\n",
        "\n",
        "これまで、オプションのパラメータを取る組み込み関数を使用してきました。例えば、`round` 関数は、保持する小数点以下の桁数を示す `ndigits` というオプションのパラメータを受け付けます。"
      ]
    },
    {
      "cell_type": "code",
      "execution_count": null,
      "id": "838bcb4f",
      "metadata": {
        "id": "838bcb4f"
      },
      "outputs": [],
      "source": [
        "round(3.141592653589793, ndigits=3)"
      ]
    },
    {
      "cell_type": "markdown",
      "id": "6ae60945",
      "metadata": {
        "id": "6ae60945"
      },
      "source": [
        "しかし、組み込み関数だけではなく、オプションのパラメータを持つ関数も自分で書くことができます。例えば、次の関数は `word_counter` と `num` という2つのパラメータを取ります。"
      ]
    },
    {
      "cell_type": "code",
      "execution_count": null,
      "id": "90c45e7e",
      "metadata": {
        "id": "90c45e7e"
      },
      "outputs": [],
      "source": [
        "def print_most_common(word_counter, num=5):\n",
        "    items = sorted(word_counter.items(), key=second_element, reverse=True)\n",
        "\n",
        "    for word, freq in items[:num]:\n",
        "        print(freq, word, sep='\\t')"
      ]
    },
    {
      "cell_type": "markdown",
      "id": "78cb1531",
      "metadata": {
        "id": "78cb1531"
      },
      "source": [
        "2番目のパラメーターは代入文のように見えますが、そうではありません。これはオプションのパラメーターです。\n",
        "\n",
        "この関数を1つの引数で呼び出すと、`num`は**デフォルト値**である`5`を取得します。"
      ]
    },
    {
      "cell_type": "code",
      "execution_count": null,
      "id": "e106be95",
      "metadata": {
        "id": "e106be95"
      },
      "outputs": [],
      "source": [
        "print_most_common(word_counter)"
      ]
    },
    {
      "cell_type": "markdown",
      "id": "29753ad6",
      "metadata": {
        "id": "29753ad6"
      },
      "source": [
        "この関数を2つの引数で呼び出すと、2番目の引数がデフォルト値の代わりに `num` に割り当てられます。"
      ]
    },
    {
      "cell_type": "code",
      "execution_count": null,
      "id": "8101a510",
      "metadata": {
        "id": "8101a510"
      },
      "outputs": [],
      "source": [
        "print_most_common(word_counter, 3)"
      ]
    },
    {
      "cell_type": "markdown",
      "id": "e9bf907b",
      "metadata": {
        "id": "e9bf907b"
      },
      "source": [
        "その場合、オプションの引数がデフォルト値を**オーバーライド**すると言います。\n",
        "\n",
        "関数に必須パラメーターとオプションパラメーターが両方ある場合、すべての必須パラメーターが最初に来て、その後にオプションのものが続く必要があります。"
      ]
    },
    {
      "cell_type": "code",
      "execution_count": null,
      "id": "c046117b",
      "metadata": {
        "tags": [],
        "id": "c046117b"
      },
      "outputs": [],
      "source": [
        "%%expect SyntaxError\n",
        "\n",
        "def bad_function(n=5, word_counter):\n",
        "    return None"
      ]
    },
    {
      "cell_type": "markdown",
      "id": "3f450df2",
      "metadata": {
        "tags": [],
        "id": "3f450df2"
      },
      "source": [
        "本をスペルチェックする必要があるとしましょう。つまり、誤って綴られた可能性のある単語を見つけ出したいということです。その方法の一つとして、有効な単語のリストに現れない単語を本の中から見つけ出すことが考えられます。以前の章では、スクラブルのようなワードゲームで有効とされる単語のリストを使用しました。今回は、このリストを使ってロバート・ルイス・スティーブンソンの著作をスペルチェックします。\n",
        "\n",
        "この問題を集合の差として考えることができます。すなわち、ある集合（本の中の単語）から別の集合（リストの中の単語）に含まれないすべての単語を見つけたいということです。"
      ]
    },
    {
      "cell_type": "markdown",
      "id": "a3804d82",
      "metadata": {
        "tags": [],
        "id": "a3804d82"
      },
      "source": [
        "次のセルは単語リストをダウンロードします。"
      ]
    },
    {
      "cell_type": "code",
      "execution_count": null,
      "id": "edd8ff1c",
      "metadata": {
        "tags": [],
        "id": "edd8ff1c"
      },
      "outputs": [],
      "source": [
        "download('https://raw.githubusercontent.com/AllenDowney/ThinkPython/v3/words.txt');"
      ]
    },
    {
      "cell_type": "markdown",
      "id": "2a46556c",
      "metadata": {
        "id": "2a46556c"
      },
      "source": [
        "以前行ったように、`words.txt` の内容を読み取り、それを文字列のリストに分割することができます。"
      ]
    },
    {
      "cell_type": "code",
      "execution_count": null,
      "id": "67ef3e08",
      "metadata": {
        "id": "67ef3e08"
      },
      "outputs": [],
      "source": [
        "word_list = open('words.txt').read().split()"
      ]
    },
    {
      "cell_type": "markdown",
      "id": "22becbab",
      "metadata": {
        "id": "22becbab"
      },
      "source": [
        "次に、単語を辞書のキーとして保存し、それを使って`in`演算子でその単語が有効かどうかを素早く確認できるようにします。"
      ]
    },
    {
      "cell_type": "code",
      "execution_count": null,
      "id": "471d58e9",
      "metadata": {
        "id": "471d58e9"
      },
      "outputs": [],
      "source": [
        "valid_words = {}\n",
        "for word in word_list:\n",
        "    valid_words[word] = 1"
      ]
    },
    {
      "cell_type": "markdown",
      "id": "94cc7c61",
      "metadata": {
        "id": "94cc7c61"
      },
      "source": [
        "さて、本に出てくる単語で単語リストにないものを特定するために、2つの辞書をパラメーターとして受け取り、一方にあって他方にないすべてのキーを含む新しい辞書を返す`subtract`を使用します。"
      ]
    },
    {
      "cell_type": "code",
      "execution_count": null,
      "id": "4d4c3538",
      "metadata": {
        "id": "4d4c3538"
      },
      "outputs": [],
      "source": [
        "def subtract(d1, d2):\n",
        "    res = {}\n",
        "    for key in d1:\n",
        "        if key not in d2:\n",
        "            res[key] = d1[key]\n",
        "    return res"
      ]
    },
    {
      "cell_type": "markdown",
      "id": "e70c63b4",
      "metadata": {
        "id": "e70c63b4"
      },
      "source": [
        "こちらがその使い方です。"
      ]
    },
    {
      "cell_type": "code",
      "execution_count": null,
      "id": "8b42e014",
      "metadata": {
        "id": "8b42e014"
      },
      "outputs": [],
      "source": [
        "diff = subtract(word_counter, valid_words)"
      ]
    },
    {
      "cell_type": "markdown",
      "id": "f8ada7bd",
      "metadata": {
        "id": "f8ada7bd"
      },
      "source": [
        "単語のサンプルを抽出するために、`diff`で最も一般的な単語を印刷することができます。"
      ]
    },
    {
      "cell_type": "code",
      "execution_count": null,
      "id": "f48be152",
      "metadata": {
        "id": "f48be152"
      },
      "outputs": [],
      "source": [
        "print_most_common(diff)"
      ]
    },
    {
      "cell_type": "markdown",
      "id": "deeec418",
      "metadata": {
        "id": "deeec418"
      },
      "source": [
        "最も一般的な「スペルミス」の単語は、主に名前と、いくつかの一文字の単語です（ミスター・アターソンはドクター・ジーキルの友人であり弁護士です）。\n",
        "\n",
        "もし一度だけ出現する単語を選ぶと、それらは実際のスペルミスである可能性が高くなります。それを行うために、項目をループして、頻度が「1」の単語のリストを作成することができます。"
      ]
    },
    {
      "cell_type": "code",
      "execution_count": null,
      "id": "5716f967",
      "metadata": {
        "id": "5716f967"
      },
      "outputs": [],
      "source": [
        "singletons = []\n",
        "for word, freq in diff.items():\n",
        "    if freq == 1:\n",
        "        singletons.append(word)"
      ]
    },
    {
      "cell_type": "markdown",
      "id": "98ae9281",
      "metadata": {
        "id": "98ae9281"
      },
      "source": [
        "こちらがリストの最後のいくつかの要素です。"
      ]
    },
    {
      "cell_type": "code",
      "execution_count": null,
      "id": "b37219f5",
      "metadata": {
        "id": "b37219f5"
      },
      "outputs": [],
      "source": [
        "singletons[-5:]"
      ]
    },
    {
      "cell_type": "markdown",
      "id": "c5040834",
      "metadata": {
        "id": "c5040834"
      },
      "source": [
        "それらのほとんどは単語リストにない有効な単語です。しかし、「reindue」は「reinduce」の誤字のようなので、少なくとも1つの正当なエラーを見つけました。"
      ]
    },
    {
      "cell_type": "markdown",
      "id": "afcbbe19",
      "metadata": {
        "id": "afcbbe19"
      },
      "source": [
        "## ランダムな数\n",
        "\n",
        "マルコフテキスト生成へのステップとして、次に`word_counter`からランダムな単語のシーケンスを選んでみます。\n",
        "しかしその前に、ランダム性について話しましょう。\n",
        "\n",
        "同じ入力を与えられたとき、ほとんどのコンピュータプログラムは**決定論的**であり、つまり毎回同じ出力を生成します。\n",
        "決定論は通常は良いことです。なぜなら、同じ計算が同じ結果をもたらすことを期待するからです。\n",
        "しかし、いくつかのアプリケーションでは、コンピュータが予測不可能であってほしいこともあります。\n",
        "例としてはゲームがありますが、他にもあります。\n",
        "\n",
        "プログラムを本当に非決定的なものにするのは難しいのですが、それを偽装する方法はいくつかあります。\n",
        "その一つが、**疑似乱数**を生成するアルゴリズムを使用することです。\n",
        "疑似乱数は決定論的な計算によって生成されているため、真にランダムではありません。\n",
        "しかし、それらの数列を見るだけでは、ランダムなものと区別するのはほぼ不可能です。\n",
        "\n",
        "`random`モジュールは疑似乱数を生成する関数を提供しています。ここからはそれを単に「乱数」と呼びます。\n",
        "このようにしてインポートできます。"
      ]
    },
    {
      "cell_type": "code",
      "execution_count": null,
      "id": "75b548a9",
      "metadata": {
        "id": "75b548a9"
      },
      "outputs": [],
      "source": [
        "import random"
      ]
    },
    {
      "cell_type": "code",
      "execution_count": null,
      "id": "2bfa31ae",
      "metadata": {
        "tags": [],
        "id": "2bfa31ae"
      },
      "outputs": [],
      "source": [
        "# this cell initializes the random number generator so it\n",
        "# generates the same sequence each time the notebook runs.\n",
        "\n",
        "random.seed(4)"
      ]
    },
    {
      "cell_type": "markdown",
      "id": "8cbbd7f8",
      "metadata": {
        "id": "8cbbd7f8"
      },
      "source": [
        "`random`モジュールには`choice`という関数があり、これはリストからランダムに要素を選びます。すべての要素が選ばれる確率は同じです。"
      ]
    },
    {
      "cell_type": "code",
      "execution_count": null,
      "id": "6f5d5c1c",
      "metadata": {
        "id": "6f5d5c1c"
      },
      "outputs": [],
      "source": [
        "t = [1, 2, 3]\n",
        "random.choice(t)"
      ]
    },
    {
      "cell_type": "markdown",
      "id": "57c15af2",
      "metadata": {
        "id": "57c15af2"
      },
      "source": [
        "関数を再度呼び出すと、同じ要素が再び返されるか、異なる要素が返される可能性があります。"
      ]
    },
    {
      "cell_type": "code",
      "execution_count": null,
      "id": "1445068b",
      "metadata": {
        "id": "1445068b"
      },
      "outputs": [],
      "source": [
        "random.choice(t)"
      ]
    },
    {
      "cell_type": "markdown",
      "id": "6f0c2572",
      "metadata": {
        "id": "6f0c2572"
      },
      "source": [
        "長期的には、すべての要素がほぼ同じ回数得られることを期待しています。\n",
        "\n",
        "`choice`を辞書と一緒に使用すると、`KeyError`が発生します。"
      ]
    },
    {
      "cell_type": "code",
      "execution_count": null,
      "id": "4fc47ecd",
      "metadata": {
        "tags": [],
        "id": "4fc47ecd"
      },
      "outputs": [],
      "source": [
        "%%expect KeyError\n",
        "\n",
        "random.choice(word_counter)"
      ]
    },
    {
      "cell_type": "markdown",
      "id": "592722f3",
      "metadata": {
        "id": "592722f3"
      },
      "source": [
        "ランダムなキーを選ぶには、キーをリストに入れてから `choice` 関数を呼び出す必要があります。"
      ]
    },
    {
      "cell_type": "code",
      "execution_count": null,
      "id": "91ae9d4c",
      "metadata": {
        "id": "91ae9d4c"
      },
      "outputs": [],
      "source": [
        "words = list(word_counter)\n",
        "random.choice(words)"
      ]
    },
    {
      "cell_type": "markdown",
      "id": "172d72f6",
      "metadata": {
        "id": "172d72f6"
      },
      "source": [
        "ランダムな単語の列を生成しても、あまり意味がありません。"
      ]
    },
    {
      "cell_type": "code",
      "execution_count": null,
      "id": "8bf595c1",
      "metadata": {
        "id": "8bf595c1"
      },
      "outputs": [],
      "source": [
        "for i in range(6):\n",
        "    word = random.choice(words)\n",
        "    print(word, end=' ')"
      ]
    },
    {
      "cell_type": "markdown",
      "id": "e0e2fbc4",
      "metadata": {
        "id": "e0e2fbc4"
      },
      "source": [
        "問題の一部は、ある単語が他の単語よりも一般的であることを考慮していないことです。異なる「重み」を持つ単語を選ぶと、結果はより良くなります。そのため、ある単語は他の単語よりも頻繁に選ばれることになります。\n",
        "\n",
        "`word_counter`の値を重みとして使用すると、各単語はその頻度に応じた確率で選ばれます。"
      ]
    },
    {
      "cell_type": "code",
      "execution_count": null,
      "id": "22953b65",
      "metadata": {
        "id": "22953b65"
      },
      "outputs": [],
      "source": [
        "weights = word_counter.values()"
      ]
    },
    {
      "cell_type": "markdown",
      "id": "5098bf93",
      "metadata": {
        "id": "5098bf93"
      },
      "source": [
        "`random`モジュールには、オプションの引数として重みを取ることができる`choices`という別の関数があります。"
      ]
    },
    {
      "cell_type": "code",
      "execution_count": null,
      "id": "1c7cdf4d",
      "metadata": {
        "id": "1c7cdf4d"
      },
      "outputs": [],
      "source": [
        "random.choices(words, weights=weights)"
      ]
    },
    {
      "cell_type": "markdown",
      "id": "a3341e84",
      "metadata": {
        "id": "a3341e84"
      },
      "source": [
        "さらに、選択する単語の数を指定するオプション引数 `k` も取ります。"
      ]
    },
    {
      "cell_type": "code",
      "execution_count": null,
      "id": "a7a3aa42",
      "metadata": {
        "id": "a7a3aa42"
      },
      "outputs": [],
      "source": [
        "random_words = random.choices(words, weights=weights, k=6)\n",
        "random_words"
      ]
    },
    {
      "cell_type": "markdown",
      "id": "e57e6f3d",
      "metadata": {
        "id": "e57e6f3d"
      },
      "source": [
        "結果は文字列のリストであり、それを結合してより文章らしくすることができます。"
      ]
    },
    {
      "cell_type": "code",
      "execution_count": null,
      "id": "c4286fb3",
      "metadata": {
        "id": "c4286fb3"
      },
      "outputs": [],
      "source": [
        "' '.join(random_words)"
      ]
    },
    {
      "cell_type": "markdown",
      "id": "c7a35dff",
      "metadata": {
        "id": "c7a35dff"
      },
      "source": [
        "本からランダムに単語を選ぶと、その語彙の感覚を得ることはできますが、一連のランダムな単語が意味を成すことはまれです。というのも、連続する単語の間に関係がないからです。たとえば、実際の文の中では、「the」のような冠詞の後には形容詞や名詞が続くことを期待し、動詞や副詞が続く可能性は低いです。したがって、次のステップは単語間のこれらの関係性を調べることです。"
      ]
    },
    {
      "cell_type": "markdown",
      "id": "0921dd53",
      "metadata": {
        "id": "0921dd53"
      },
      "source": [
        "## バイグラム\n",
        "\n",
        "1 つの単語を見るのではなく、2 つの単語のシーケンス、すなわち**バイグラム**を見ていきます。\n",
        "3 つの単語のシーケンスは**トライグラム**と呼ばれ、不特定の数の単語のシーケンスは**n-グラム**と呼ばれます。\n",
        "\n",
        "本に出てくるすべてのバイグラムを見つけ、それぞれの出現回数を数えるプログラムを書いてみましょう。\n",
        "結果を保存するために、以下の要件を満たす辞書を使用します。\n",
        "\n",
        "* キーはバイグラムを表す文字列のタプルで、\n",
        "\n",
        "* 値は出現頻度を表す整数です。\n",
        "\n",
        "これを `bigram_counter` と呼びましょう。"
      ]
    },
    {
      "cell_type": "code",
      "execution_count": null,
      "id": "d8ee02f6",
      "metadata": {
        "id": "d8ee02f6"
      },
      "outputs": [],
      "source": [
        "bigram_counter = {}"
      ]
    },
    {
      "cell_type": "markdown",
      "id": "33f97a2a",
      "metadata": {
        "id": "33f97a2a"
      },
      "source": [
        "次の関数は、2つの文字列を要素に持つリストをパラメータとして受け取ります。まず、この2つの文字列をタプルに変換し、それを辞書でキーとして使用できるようにします。その後、そのキーを `bigram_counter` に追加します。キーが存在しない場合は新たに作成し、すでに存在する場合は頻度を増加させます。"
      ]
    },
    {
      "cell_type": "code",
      "execution_count": null,
      "id": "bfdb1de1",
      "metadata": {
        "id": "bfdb1de1"
      },
      "outputs": [],
      "source": [
        "def count_bigram(bigram):\n",
        "    key = tuple(bigram)\n",
        "    if key not in bigram_counter:\n",
        "        bigram_counter[key] = 1\n",
        "    else:\n",
        "        bigram_counter[key] += 1"
      ]
    },
    {
      "cell_type": "markdown",
      "id": "5c30f429",
      "metadata": {
        "id": "5c30f429"
      },
      "source": [
        "本を読み進める際、すべての連続した単語のペアを追跡する必要があります。  \n",
        "例えば、\"man is not truly one\" という順序が表示された場合には、`man is`、`is not`、`not truly` などのバイグラムを追加します。\n",
        "\n",
        "これらのバイグラムを追跡するために、`window` と呼ばれるリストを使用します。これは、書籍のページの上をスライドして、常に2つの単語しか表示しない窓のようなものです。  \n",
        "最初は、`window` は空です。"
      ]
    },
    {
      "cell_type": "code",
      "execution_count": null,
      "id": "2e73df79",
      "metadata": {
        "id": "2e73df79"
      },
      "outputs": [],
      "source": [
        "window = []"
      ]
    },
    {
      "cell_type": "markdown",
      "id": "9376558c",
      "metadata": {
        "id": "9376558c"
      },
      "source": [
        "それぞれの単語を一度に一つずつ処理するために、以下の関数を使用します。"
      ]
    },
    {
      "cell_type": "code",
      "execution_count": null,
      "id": "495ad429",
      "metadata": {
        "id": "495ad429"
      },
      "outputs": [],
      "source": [
        "def process_word(word):\n",
        "    window.append(word)\n",
        "\n",
        "    if len(window) == 2:\n",
        "        count_bigram(window)\n",
        "        window.pop(0)"
      ]
    },
    {
      "cell_type": "markdown",
      "id": "56895591",
      "metadata": {
        "id": "56895591"
      },
      "source": [
        "この関数が初めて呼び出されたとき、指定された単語を`window`に追加します。`window`にはまだ一つの単語しかないため、ビグラムは存在せず、関数は終了します。\n",
        "\n",
        "二回目以降に呼び出されるときは、`window`に二つ目の単語を追加します。`window`に二つの単語があるので、`count_bigram`を呼び出して、各ビグラムが出現する回数を記録します。その後、`pop`を使って`window`から最初の単語を削除します。\n",
        "\n",
        "次のプログラムは本の中の単語を順番にループし、1つずつ処理します。"
      ]
    },
    {
      "cell_type": "code",
      "execution_count": null,
      "id": "c1224061",
      "metadata": {
        "id": "c1224061"
      },
      "outputs": [],
      "source": [
        "for line in open(filename):\n",
        "    for word in split_line(line):\n",
        "        word = clean_word(word)\n",
        "        process_word(word)"
      ]
    },
    {
      "cell_type": "markdown",
      "id": "20c4627a",
      "metadata": {
        "id": "20c4627a"
      },
      "source": [
        "この結果は、各バイグラムが出現する回数をマッピングする辞書です。最も一般的なバイグラムを確認するには、`print_most_common`を使用できます。"
      ]
    },
    {
      "cell_type": "code",
      "execution_count": null,
      "id": "4296485a",
      "metadata": {
        "id": "4296485a"
      },
      "outputs": [],
      "source": [
        "print_most_common(bigram_counter)"
      ]
    },
    {
      "cell_type": "markdown",
      "id": "757bd309",
      "metadata": {
        "id": "757bd309"
      },
      "source": [
        "これらの結果を見ると、どの単語のペアが一緒に現れる可能性が高いかを把握することができます。また、結果を利用してこのようなランダムな文を生成することもできます。"
      ]
    },
    {
      "cell_type": "code",
      "execution_count": null,
      "id": "e03fd803",
      "metadata": {
        "tags": [],
        "id": "e03fd803"
      },
      "outputs": [],
      "source": [
        "random.seed(0)"
      ]
    },
    {
      "cell_type": "code",
      "execution_count": null,
      "id": "f6ee1840",
      "metadata": {
        "id": "f6ee1840"
      },
      "outputs": [],
      "source": [
        "bigrams = list(bigram_counter)\n",
        "weights = bigram_counter.values()\n",
        "random_bigrams = random.choices(bigrams, weights=weights, k=6)"
      ]
    },
    {
      "cell_type": "markdown",
      "id": "eda80407",
      "metadata": {
        "id": "eda80407"
      },
      "source": [
        "「bigrams」は、書籍に現れるバイグラム（2つの連続する単語の組み合わせ）のリストです。「weights」はそれらの頻度のリストであり、したがって「random_bigrams」は、バイグラムが選択される確率がその頻度に比例するサンプルです。\n",
        "\n",
        "以下がその結果です。"
      ]
    },
    {
      "cell_type": "code",
      "execution_count": null,
      "id": "d6c65d79",
      "metadata": {
        "id": "d6c65d79"
      },
      "outputs": [],
      "source": [
        "for pair in random_bigrams:\n",
        "    print(' '.join(pair), end=' ')"
      ]
    },
    {
      "cell_type": "markdown",
      "id": "5f24c3b6",
      "metadata": {
        "id": "5f24c3b6"
      },
      "source": [
        "この方法でテキストを生成する方が単語をランダムに選ぶよりは良いですが、それでもあまり意味をなさないことがあります。"
      ]
    },
    {
      "cell_type": "markdown",
      "id": "a13d93b5",
      "metadata": {
        "id": "a13d93b5"
      },
      "source": [
        "マルコフ解析\n",
        "\n",
        "マルコフ連鎖のテキスト解析を使用すると、テキスト内の各単語に対して、次に続く単語のリストを計算することができます。例として、モンティ・パイソンの「Eric, the Half a Bee」の歌詞を分析します。"
      ]
    },
    {
      "cell_type": "code",
      "execution_count": null,
      "id": "3171d592",
      "metadata": {
        "id": "3171d592"
      },
      "outputs": [],
      "source": [
        "song = \"\"\"\n",
        "Half a bee, philosophically,\n",
        "Must, ipso facto, half not be.\n",
        "But half the bee has got to be\n",
        "Vis a vis, its entity. D'you see?\n",
        "\"\"\""
      ]
    },
    {
      "cell_type": "markdown",
      "id": "583ab9f0",
      "metadata": {
        "id": "583ab9f0"
      },
      "source": [
        "結果を保存するために、各単語からそれに続く単語のリストへのマッピングを行う辞書を使用します。"
      ]
    },
    {
      "cell_type": "code",
      "execution_count": null,
      "id": "3321e6a4",
      "metadata": {
        "id": "3321e6a4"
      },
      "outputs": [],
      "source": [
        "successor_map = {}"
      ]
    },
    {
      "cell_type": "markdown",
      "id": "d5d85b09",
      "metadata": {
        "id": "d5d85b09"
      },
      "source": [
        "例として、その曲の最初の2つの単語から始めてみましょう。"
      ]
    },
    {
      "cell_type": "code",
      "execution_count": null,
      "id": "e4e55c71",
      "metadata": {
        "id": "e4e55c71"
      },
      "outputs": [],
      "source": [
        "first = 'half'\n",
        "second = 'a'"
      ]
    },
    {
      "cell_type": "markdown",
      "id": "0349fe78",
      "metadata": {
        "id": "0349fe78"
      },
      "source": [
        "最初の単語が `successor_map` に存在しない場合、最初の単語から2番目の単語を含むリストへのマッピングを追加する新しい項目を追加する必要があります。"
      ]
    },
    {
      "cell_type": "code",
      "execution_count": null,
      "id": "f25dcb5e",
      "metadata": {
        "id": "f25dcb5e"
      },
      "outputs": [],
      "source": [
        "successor_map[first] = [second]\n",
        "successor_map"
      ]
    },
    {
      "cell_type": "markdown",
      "id": "55bb8df9",
      "metadata": {
        "id": "55bb8df9"
      },
      "source": [
        "最初の単語がすでに辞書にある場合は、これまでに見た後続のリストを調べて、新しいものを追加することができます。"
      ]
    },
    {
      "cell_type": "code",
      "execution_count": null,
      "id": "990354a0",
      "metadata": {
        "id": "990354a0"
      },
      "outputs": [],
      "source": [
        "first = 'half'\n",
        "second = 'not'\n",
        "\n",
        "successor_map[first].append(second)\n",
        "successor_map"
      ]
    },
    {
      "cell_type": "markdown",
      "id": "6289cc32",
      "metadata": {
        "id": "6289cc32"
      },
      "source": [
        "次の関数は、これらのステップをカプセル化します。"
      ]
    },
    {
      "cell_type": "code",
      "execution_count": null,
      "id": "b9371452",
      "metadata": {
        "id": "b9371452"
      },
      "outputs": [],
      "source": [
        "def add_bigram(bigram):\n",
        "    first, second = bigram\n",
        "\n",
        "    if first not in successor_map:\n",
        "        successor_map[first] = [second]\n",
        "    else:\n",
        "        successor_map[first].append(second)"
      ]
    },
    {
      "cell_type": "markdown",
      "id": "74a51700",
      "metadata": {
        "id": "74a51700"
      },
      "source": [
        "同じバイグラムが複数回登場する場合、2番目の単語がリストに複数回追加されます。\n",
        "このようにして、`successor_map` は各後続単語がどれだけ出現するかを記録します。\n",
        "\n",
        "前のセクションで行ったように、連続する単語のペアを格納するために `window` というリストを使用します。\n",
        "そして、以下の関数を用いて単語を1つずつ処理します。"
      ]
    },
    {
      "cell_type": "code",
      "execution_count": null,
      "id": "8c3f45c2",
      "metadata": {
        "id": "8c3f45c2"
      },
      "outputs": [],
      "source": [
        "def process_word_bigram(word):\n",
        "    window.append(word)\n",
        "\n",
        "    if len(window) == 2:\n",
        "        add_bigram(window)\n",
        "        window.pop(0)"
      ]
    },
    {
      "cell_type": "markdown",
      "id": "861a60d9",
      "metadata": {
        "id": "861a60d9"
      },
      "source": [
        "この方法で曲の歌詞を処理します。"
      ]
    },
    {
      "cell_type": "code",
      "execution_count": null,
      "id": "641990a3",
      "metadata": {
        "id": "641990a3"
      },
      "outputs": [],
      "source": [
        "successor_map = {}\n",
        "window = []\n",
        "\n",
        "for word in song.split():\n",
        "    word = clean_word(word)\n",
        "    process_word_bigram(word)"
      ]
    },
    {
      "cell_type": "markdown",
      "id": "bf490d67",
      "metadata": {
        "id": "bf490d67"
      },
      "source": [
        "そして、こちらが結果です。"
      ]
    },
    {
      "cell_type": "code",
      "execution_count": null,
      "id": "9322a49a",
      "metadata": {
        "id": "9322a49a"
      },
      "outputs": [],
      "source": [
        "successor_map"
      ]
    },
    {
      "cell_type": "markdown",
      "id": "ff7bad74",
      "metadata": {
        "id": "ff7bad74"
      },
      "source": [
        "さて、本を分析しましょう。"
      ]
    },
    {
      "cell_type": "code",
      "execution_count": null,
      "id": "45a60c52",
      "metadata": {
        "id": "45a60c52"
      },
      "outputs": [],
      "source": [
        "successor_map = {}\n",
        "window = []\n",
        "\n",
        "for line in open(filename):\n",
        "    for word in split_line(line):\n",
        "        word = clean_word(word)\n",
        "        process_word_bigram(word)"
      ]
    },
    {
      "cell_type": "markdown",
      "id": "2676e2fb",
      "metadata": {
        "id": "2676e2fb"
      },
      "source": [
        "私たちはどんな単語でも調べて、その後に続く単語を見つけることができます。"
      ]
    },
    {
      "cell_type": "code",
      "execution_count": null,
      "id": "3e86102c",
      "metadata": {
        "tags": [],
        "id": "3e86102c"
      },
      "outputs": [],
      "source": [
        "# I used this cell to find a predecessor with a good number of possible successors\n",
        "# and at least one repeated word.\n",
        "\n",
        "def has_duplicates(t):\n",
        "    return len(set(t)) < len(t)\n",
        "\n",
        "for key, value in successor_map.items():\n",
        "    if len(value) == 7 and has_duplicates(value):\n",
        "        print(key, value)"
      ]
    },
    {
      "cell_type": "code",
      "execution_count": null,
      "id": "e49d52f7",
      "metadata": {
        "id": "e49d52f7"
      },
      "outputs": [],
      "source": [
        "successor_map['going']"
      ]
    },
    {
      "cell_type": "markdown",
      "id": "7b777a9c",
      "metadata": {
        "id": "7b777a9c"
      },
      "source": [
        "この後継者のリストでは、単語「'to'」が3回出現していることに注意してください。他の後継者は1回しか出現していません。"
      ]
    },
    {
      "cell_type": "markdown",
      "id": "e8bf85fc",
      "metadata": {
        "id": "e8bf85fc"
      },
      "source": [
        "## 生成テキスト\n",
        "\n",
        "前のセクションの結果を用いて、オリジナルと同じ連続する単語間の関係を持つ新しいテキストを生成できます。以下はその手順です：\n",
        "\n",
        "* テキスト内に現れる任意の単語から始め、その単語の後に続く可能性のある単語を調べ、ランダムに1つ選びます。\n",
        "\n",
        "* 次に、選ばれた単語を使って、その単語の後に続く可能性のある単語を調べ、ランダムに1つ選びます。\n",
        "\n",
        "このプロセスを繰り返して、希望するだけ多くの単語を生成できます。\n",
        "例として、単語「'although'」から始めてみましょう。\n",
        "これに続くことができる単語は以下の通りです。"
      ]
    },
    {
      "cell_type": "code",
      "execution_count": null,
      "id": "15108884",
      "metadata": {
        "id": "15108884"
      },
      "outputs": [],
      "source": [
        "word = 'although'\n",
        "successors = successor_map[word]\n",
        "successors"
      ]
    },
    {
      "cell_type": "code",
      "execution_count": null,
      "id": "747a41be",
      "metadata": {
        "tags": [],
        "id": "747a41be"
      },
      "outputs": [],
      "source": [
        "# this cell initializes the random number generator so it\n",
        "# starts at the same point in the sequence each time this\n",
        "# notebook runs.\n",
        "\n",
        "random.seed(2)"
      ]
    },
    {
      "cell_type": "markdown",
      "id": "b26a2ead",
      "metadata": {
        "id": "b26a2ead"
      },
      "source": [
        "`choice`を使用して、リストから等しい確率で選ぶことができます。"
      ]
    },
    {
      "cell_type": "code",
      "execution_count": null,
      "id": "5a4682dc",
      "metadata": {
        "id": "5a4682dc"
      },
      "outputs": [],
      "source": [
        "word = random.choice(successors)\n",
        "word"
      ]
    },
    {
      "cell_type": "markdown",
      "id": "9741beca",
      "metadata": {
        "id": "9741beca"
      },
      "source": [
        "同じ単語がリストに複数回現れる場合、その単語が選ばれる可能性が高くなります。\n",
        "\n",
        "これらのステップを繰り返すことで、次のループを使用してより長いシリーズを生成できます。"
      ]
    },
    {
      "cell_type": "code",
      "execution_count": null,
      "id": "36ee0f76",
      "metadata": {
        "id": "36ee0f76"
      },
      "outputs": [],
      "source": [
        "for i in range(10):\n",
        "    successors = successor_map[word]\n",
        "    word = random.choice(successors)\n",
        "    print(word, end=' ')"
      ]
    },
    {
      "cell_type": "markdown",
      "id": "38a2d79a",
      "metadata": {
        "id": "38a2d79a"
      },
      "source": [
        "結果はより本物らしい文章に聞こえるが、それでもあまり意味を成していません。\n",
        "\n",
        "`successor_map`で一つ以上の単語をキーとして使用することで、より良い結果を望むことができます。\n",
        "たとえば、各バイグラムやトライグラムから次に来る単語のリストをマップする辞書を作成することができます。\n",
        "練習として、この分析を実装し、その結果がどのように見えるか確認する機会があるでしょう。"
      ]
    },
    {
      "cell_type": "markdown",
      "id": "c59dff45",
      "metadata": {
        "tags": [],
        "id": "c59dff45"
      },
      "source": [
        "## デバッグ\n",
        "\n",
        "この段階で、より大規模なプログラムを書いており、デバッグに多くの時間を費やしているかもしれません。難しいバグで行き詰まった場合は、次のことを試してみてください。\n",
        "\n",
        "* 読む: コードを確認し、自分自身に読み聞かせながら、それがあなたの意図したことを正しく表現しているかを確認します。\n",
        "\n",
        "* 実行: 変更を加えて異なるバージョンを実行して実験します。プログラムの適切な場所で正しいものを表示すれば、問題が明らかになることがありますが、時には足場を組み立てる必要があります。\n",
        "\n",
        "* 考える: 時間を取って考えます！それはどんなエラーですか: 構文エラー、実行時エラー、セマンティックエラーのいずれですか？エラーメッセージやプログラムの出力からどんな情報が得られますか？あなたが目にしている問題を引き起こす可能性のあるエラーは、どんなものでしょうか？問題が発生する前に最後に何を変更しましたか？\n",
        "\n",
        "* ラバーダッキング: 問題を他の人に説明することで、質問を終える前に答えが見つかることがあります。多くの場合、他の人は必要ありません。ラバーダックに話しかけるだけでいいのです。そしてこれが、よく知られた戦略である「ラバーダック・デバッグ」の由来です。本当の話です -- 詳しくは <https://en.wikipedia.org/wiki/Rubber_duck_debugging> を参照してください。\n",
        "\n",
        "* 後退: ある時点で、最善の策はバックアップすることです -- 最近の変更を元に戻すことです。それで動くプログラムに戻れたら、そこから再構築を始めることができます。\n",
        "\n",
        "* 休憩: 脳に休憩を与えると、時々問題の解決策が自然に見つかることがあります。"
      ]
    },
    {
      "cell_type": "markdown",
      "id": "12c2cd32",
      "metadata": {
        "id": "12c2cd32"
      },
      "source": [
        "初心者のプログラマーは、これらの活動のうちの一つにこだわってしまい、他の活動を忘れてしまうことがあります。各活動には独自の失敗モードがあります。\n",
        "\n",
        "例えば、コードを読むことは、問題がタイプミスである場合には効果的ですが、概念的な誤解が原因である場合には効果がありません。\n",
        "プログラムの動作を理解していない場合、100回読んでもエラーが見つからないことがあります。エラーはあなたの頭の中にあるからです。\n",
        "\n",
        "小さくシンプルなテストを実行することで、実験を行うことは有効です。\n",
        "しかし、考えずにコードを読まずに実験を行うと、何が起こっているのかを把握するのに長い時間がかかることがあります。\n",
        "\n",
        "時間をかけて考える必要があります。デバッグは実験科学のようなものです。問題が何であるかについて、少なくとも一つの仮説を持つべきです。可能性が二つ以上ある場合、一つを排除できるテストを考えてみてください。"
      ]
    },
    {
      "cell_type": "markdown",
      "id": "a55036e1",
      "metadata": {
        "id": "a55036e1"
      },
      "source": [
        "しかし、どんなに優れたデバッグ手法でも、エラーが多すぎたり、修正しようとしているコードが大きくて複雑すぎたりすると、効果を発揮しません。時には、プログラムを簡素化して、動作する状態に戻すのが最良の選択肢です。\n",
        "\n",
        "初心者のプログラマーは後退することをためらうことが多いです。間違っているとしても、コードの一行を削除することに耐えられないからです。安心するために、コードを削減する前にプログラムを別のファイルにコピーしておくと良いでしょう。そうすれば、部分的に元のコードを一行ずつ戻すことができます。\n",
        "\n",
        "難しいバグを見つけるには、コードを読む、実行する、熟考する、後退する、そして時には休息することが必要です。この活動のどれかで行き詰まったら、他の方法を試してみてください。"
      ]
    },
    {
      "cell_type": "markdown",
      "id": "25d091af",
      "metadata": {
        "id": "25d091af"
      },
      "source": [
        "## 用語集\n",
        "\n",
        "**デフォルト値:**\n",
        "引数が提供されない場合にパラメーターに割り当てられる値。\n",
        "\n",
        "**オーバーライド:**\n",
        "デフォルト値を引数で置き換えること。\n",
        "\n",
        "**決定論的:**\n",
        "決定論的なプログラムは、同じ入力が与えられた場合、実行するたびに同じことを行う。\n",
        "\n",
        "**疑似乱数:**\n",
        "疑似乱数数列はランダムに見えるが、決定論的なプログラムによって生成される。\n",
        "\n",
        "**バイグラム:**\n",
        "通常、単語の2つの要素からなるシーケンス。\n",
        "\n",
        "**トライグラム:**\n",
        "3つの要素からなるシーケンス。\n",
        "\n",
        "**n-グラム:**\n",
        "指定されていない数の要素からなるシーケンス。\n",
        "\n",
        "**ラバーダックデバッグ:**\n",
        "無生物に対して問題を声に出して説明することによって行うデバッグ方法。"
      ]
    },
    {
      "cell_type": "markdown",
      "id": "cde18229",
      "metadata": {
        "id": "cde18229"
      },
      "source": [
        "## 演習"
      ]
    },
    {
      "cell_type": "code",
      "execution_count": null,
      "id": "05752b6d",
      "metadata": {
        "tags": [],
        "id": "05752b6d"
      },
      "outputs": [],
      "source": [
        "# This cell tells Jupyter to provide detailed debugging information\n",
        "# when a runtime error occurs. Run it before working on the exercises.\n",
        "\n",
        "%xmode Verbose"
      ]
    },
    {
      "cell_type": "markdown",
      "id": "9b0efab8",
      "metadata": {
        "id": "9b0efab8"
      },
      "source": [
        "バーチャルアシスタントに質問\n",
        "\n",
        "`add_bigram`において、`if`文はキーが辞書に既に存在するかどうかに応じて、新しいリストを作成するか既存のリストに要素を追加します。"
      ]
    },
    {
      "cell_type": "code",
      "execution_count": null,
      "id": "a4365ac0",
      "metadata": {
        "id": "a4365ac0"
      },
      "outputs": [],
      "source": [
        "def add_bigram(bigram):\n",
        "    first, second = bigram\n",
        "\n",
        "    if first not in successor_map:\n",
        "        successor_map[first] = [second]\n",
        "    else:\n",
        "        successor_map[first].append(second)"
      ]
    },
    {
      "cell_type": "markdown",
      "id": "30d9e549",
      "metadata": {
        "id": "30d9e549"
      },
      "source": [
        "辞書には `setdefault` というメソッドがあり、これを使用して、より簡潔に同じことを行うことができます。\n",
        "バーチャルアシスタントに、このメソッドの動作について尋ねることができます。または、`add_bigram` をバーチャルアシスタントにコピーし、\"`setdefault` を使ってこれを書き直せますか？\" と尋ねることも可能です。\n",
        "\n",
        "この章では、マルコフ連鎖のテキスト解析と生成を実装しました。\n",
        "興味があれば、このトピックについてもっと詳しく知りたい場合は、バーチャルアシスタントに質問できます。\n",
        "学べることの一つとして、バーチャルアシスタントがどのようにして多くのアルゴリズムを使用しているかが挙げられます。それらは多くの面で似ていますが、重要な面で異なっています。\n",
        "バーチャルアシスタントに、「GPTのような大規模言語モデルとマルコフ連鎖テキスト分析の違いは何ですか？」と尋ねてください。"
      ]
    },
    {
      "cell_type": "markdown",
      "id": "060c9ef6",
      "metadata": {
        "id": "060c9ef6"
      },
      "source": [
        "### 演習\n",
        "\n",
        "3つの単語の連続である各トライグラムが現れる回数を数える関数を書きなさい。\n",
        "テキストとして『ジキル博士とハイド氏』を用いた場合、最も一般的なトライグラムは「said the lawyer」であることがわかるはずです。\n",
        "\n",
        "ヒント: `count_bigram`に似た`count_trigram`という関数を書きます。それから`process_word_bigram`に似た`process_word_trigram`という関数を書きます。"
      ]
    },
    {
      "cell_type": "code",
      "execution_count": null,
      "id": "f38a61ff",
      "metadata": {
        "id": "f38a61ff"
      },
      "outputs": [],
      "source": [
        "# Solution goes here"
      ]
    },
    {
      "cell_type": "code",
      "execution_count": null,
      "id": "d047e546",
      "metadata": {
        "id": "d047e546"
      },
      "outputs": [],
      "source": [
        "# Solution goes here"
      ]
    },
    {
      "cell_type": "markdown",
      "id": "ca1f8a79",
      "metadata": {
        "tags": [],
        "id": "ca1f8a79"
      },
      "source": [
        "本を読み取り、単語を処理するには、次のループを使用できます。"
      ]
    },
    {
      "cell_type": "code",
      "execution_count": null,
      "id": "6b8932ee",
      "metadata": {
        "tags": [],
        "id": "6b8932ee"
      },
      "outputs": [],
      "source": [
        "trigram_counter = {}\n",
        "window = []\n",
        "\n",
        "for line in open(filename):\n",
        "    for word in split_line(line):\n",
        "        word = clean_word(word)\n",
        "        process_word_trigram(word)"
      ]
    },
    {
      "cell_type": "markdown",
      "id": "35d37fa1",
      "metadata": {
        "tags": [],
        "id": "35d37fa1"
      },
      "source": [
        "Then use `print_most_common`を使用して、その本の中で最も一般的なトライグラムを見つけます。"
      ]
    },
    {
      "cell_type": "code",
      "execution_count": null,
      "id": "44c3f0d8",
      "metadata": {
        "tags": [],
        "id": "44c3f0d8"
      },
      "outputs": [],
      "source": [
        "print_most_common(trigram_counter)"
      ]
    },
    {
      "cell_type": "markdown",
      "id": "4bd07bb7",
      "metadata": {
        "id": "4bd07bb7"
      },
      "source": [
        "申し訳ありませんが、コードの実装について直接の提供はできませんが、関数 `add_bigram` の考え方を `add_trigram` に応用する際のアドバイスを提供します。\n",
        "\n",
        "1. `add_bigram` 関数の基本的な役割は、与えられた2つの単語のペアをキーとして、3番目の単語をそのペアに続く可能性のある単語としてマップに追加または更新することです。\n",
        "\n",
        "2. `add_trigram` 関数の場合、3つの単語のうち最初の2つをキーとし、それに続く3番目の単語をそのペアに続く可能性のある単語として `successor_map` に追加または更新する必要があります。\n",
        "\n",
        "具体的には、以下のような手順で進めることを考えてください：\n",
        "- `add_trigram` の最初の2つの単語からなるペアをキーとして作成します。\n",
        "- そのペアが既に `successor_map` に存在するかを確認します。\n",
        "- 存在する場合は、3番目の単語をリストに追加します。\n",
        "- 存在しない場合は、新たにそのペアをキーとするエントリを `successor_map` に追加し、そのリストに3番目の単語を含めます。\n",
        "\n",
        "この方法で、`successor_map` は各2単語のペアに対する3番目の単語の可能性を効率的に管理できます。これを念頭に置いて、コードを構築してください。"
      ]
    },
    {
      "cell_type": "code",
      "execution_count": null,
      "id": "3fcf85f4",
      "metadata": {
        "id": "3fcf85f4"
      },
      "outputs": [],
      "source": [
        "# Solution goes here"
      ]
    },
    {
      "cell_type": "markdown",
      "id": "94d683fe",
      "metadata": {
        "id": "94d683fe"
      },
      "source": [
        "`process_word_trigram` 関数は、3-gram（3つの連続する単語の集合）を処理して、それらを保存または扱うために `add_trigram` 関数を呼び出します。以下に、`add_trigram` を呼び出すことで 3-gram を処理する `process_word_trigram` の実装例を示します。\n",
        "\n",
        "```python\n",
        "def process_word_trigram(word_list):\n",
        "    \"\"\"\n",
        "    Processes a list of words and calls add_trigram for each trigram found.\n",
        "\n",
        "    Args:\n",
        "    word_list: List of words (strings).\n",
        "    \"\"\"\n",
        "    # Ensure there are at least three words to form a trigram\n",
        "    if len(word_list) < 3:\n",
        "        return\n",
        "\n",
        "    for i in range(len(word_list) - 2):  # Loop until the third-last word\n",
        "        # Extract the trigram\n",
        "        trigram = (word_list[i], word_list[i + 1], word_list[i + 2])\n",
        "        \n",
        "        # Call the add_trigram function with the extracted trigram\n",
        "        add_trigram(trigram)\n",
        "\n",
        "def add_trigram(trigram):\n",
        "    \"\"\"\n",
        "    Adds the given trigram to the trigram model or data store.\n",
        "\n",
        "    Args:\n",
        "    trigram: Tuple of three words (string).\n",
        "    \"\"\"\n",
        "    # Here you can add code to store or process the trigram\n",
        "    print(f\"Trigram added: {trigram}\")\n",
        "```\n",
        "\n",
        "この例では、`process_word_trigram` は与えられた単語のリストからトライグラムを抽出し、それを `add_trigram` に渡します。`add_trigram` は現在のところトライグラムを単に表示しますが、この関数にはトライグラムをデータストアに追加したり、他の処理を行うロジックを実装することができます。"
      ]
    },
    {
      "cell_type": "code",
      "execution_count": null,
      "id": "d9e554e3",
      "metadata": {
        "id": "d9e554e3"
      },
      "outputs": [],
      "source": [
        "def process_word_trigram(word):\n",
        "    window.append(word)\n",
        "\n",
        "    if len(window) == 3:\n",
        "        add_trigram(window)\n",
        "        window.pop(0)"
      ]
    },
    {
      "cell_type": "markdown",
      "id": "82eeed41",
      "metadata": {
        "tags": [],
        "id": "82eeed41"
      },
      "source": [
        "以下のループを使用して、「Eric, the Half a Bee」の歌詞であなたの関数をテストすることができます。"
      ]
    },
    {
      "cell_type": "code",
      "execution_count": null,
      "id": "8c2ee21c",
      "metadata": {
        "tags": [],
        "id": "8c2ee21c"
      },
      "outputs": [],
      "source": [
        "successor_map = {}\n",
        "window = []\n",
        "\n",
        "for string in song.split():\n",
        "    word = string.strip(punctuation).lower()\n",
        "    process_word_trigram(word)"
      ]
    },
    {
      "cell_type": "markdown",
      "id": "8829d4c2",
      "metadata": {
        "tags": [],
        "id": "8829d4c2"
      },
      "source": [
        "もしあなたの関数が意図した通りに動作する場合、前置詞 `('half', 'a')` は単一の要素 `'bee'` を持つリストにマッピングされるべきです。実際、この曲の各バイグラムは一度しか登場しないため、`successor_map` のすべての値は単一の要素になります。"
      ]
    },
    {
      "cell_type": "code",
      "execution_count": null,
      "id": "b13384e3",
      "metadata": {
        "tags": [],
        "id": "b13384e3"
      },
      "outputs": [],
      "source": [
        "successor_map"
      ]
    },
    {
      "cell_type": "markdown",
      "id": "886212b5",
      "metadata": {
        "id": "886212b5"
      },
      "source": [
        "次のループを使用して、本の単語で関数をテストできます。"
      ]
    },
    {
      "cell_type": "code",
      "execution_count": null,
      "id": "62c2177f",
      "metadata": {
        "id": "62c2177f"
      },
      "outputs": [],
      "source": [
        "successor_map = {}\n",
        "window = []\n",
        "\n",
        "for line in open(filename):\n",
        "    for word in split_line(line):\n",
        "        word = clean_word(word)\n",
        "        process_word_trigram(word)"
      ]
    },
    {
      "cell_type": "markdown",
      "id": "3e1d073e",
      "metadata": {
        "id": "3e1d073e"
      },
      "source": [
        "次の演習では、結果を使用して新しいランダムなテキストを生成します。"
      ]
    },
    {
      "cell_type": "markdown",
      "id": "04d7a6ee",
      "metadata": {
        "id": "04d7a6ee"
      },
      "source": [
        "### 練習問題\n",
        "\n",
        "この練習では、`successor_map` がビグラムごとに続く単語のリストをマッピングする辞書であると仮定します。"
      ]
    },
    {
      "cell_type": "code",
      "execution_count": null,
      "id": "64e11f26",
      "metadata": {
        "tags": [],
        "id": "64e11f26"
      },
      "outputs": [],
      "source": [
        "# this cell initializes the random number generator so it\n",
        "# starts at the same point in the sequence each time this\n",
        "# notebook runs.\n",
        "\n",
        "random.seed(3)"
      ]
    },
    {
      "cell_type": "markdown",
      "id": "fb0f8f7d",
      "metadata": {
        "id": "fb0f8f7d"
      },
      "source": [
        "ランダムなテキストを生成するために、まず `successor_map` からランダムなキーを選びます。"
      ]
    },
    {
      "cell_type": "code",
      "execution_count": null,
      "id": "fe2d93fa",
      "metadata": {
        "id": "fe2d93fa"
      },
      "outputs": [],
      "source": [
        "successors = list(successor_map)\n",
        "bigram = random.choice(successors)\n",
        "bigram"
      ]
    },
    {
      "cell_type": "markdown",
      "id": "83ed6c7e",
      "metadata": {
        "id": "83ed6c7e"
      },
      "source": [
        "残念ながら、与えられた情報だけでは実際のプログラムコードを提供することはできません。ただし、以下の擬似コードはこの手順の動作を説明します。\n",
        "\n",
        "```python\n",
        "import random\n",
        "\n",
        "# 仮の`successor_map`辞書。実際のデータに置き換えてください。\n",
        "successor_map = {\n",
        "    ('doubted', 'if'): ['from', 'that', 'he'],\n",
        "    ('if', 'from'): ['he', 'she', 'they'],\n",
        "    # 他のビグラムとその後続のマッピングが続く\n",
        "}\n",
        "\n",
        "# 開始するビグラムを設定\n",
        "bigram = ('doubted', 'if')\n",
        "\n",
        "# 50語のループを生成\n",
        "for _ in range(50):\n",
        "    # 現在のビグラムに基づいて後続の語のリストを取得\n",
        "    successors = successor_map.get(bigram)\n",
        "    \n",
        "    # 後続の語が存在する場合、ランダムに選択して表示\n",
        "    if successors:\n",
        "        next_word = random.choice(successors)\n",
        "        print(next_word)\n",
        "        \n",
        "        # 新しいビグラムを設定\n",
        "        bigram = (bigram[1], next_word)\n",
        "    else:\n",
        "        # 後続の語がない場合はループを終了\n",
        "        print(\"終了: 後続が見つかりません\")\n",
        "        break\n",
        "```\n",
        "\n",
        "このコードは、指定された方法で50語を生成します。適切なデータで`successor_map`を設定することを忘れないでください。"
      ]
    },
    {
      "cell_type": "code",
      "execution_count": null,
      "id": "22210a5c",
      "metadata": {
        "id": "22210a5c"
      },
      "outputs": [],
      "source": [
        "# Solution goes here"
      ]
    },
    {
      "cell_type": "markdown",
      "id": "c71d8a89",
      "metadata": {
        "id": "c71d8a89"
      },
      "source": [
        "すべてが正常に動作している場合、生成されたテキストは元のスタイルに認識できるほど類似しており、いくつかのフレーズは意味を成すはずです。ただし、テキストはあるトピックから別のトピックに移ることがあるかもしれません。\n",
        "\n",
        "ボーナス演習として、前回の2つの演習の解決策を修正し、`successor_map` のキーとしてトライグラムを使用して、結果にどのような影響があるかを確認してください。"
      ]
    },
    {
      "cell_type": "code",
      "execution_count": null,
      "id": "3d4efda7",
      "metadata": {
        "id": "3d4efda7"
      },
      "outputs": [],
      "source": []
    },
    {
      "cell_type": "markdown",
      "id": "a7f4edf8",
      "metadata": {
        "tags": [],
        "id": "a7f4edf8"
      },
      "source": [
        "『Think Python: 第3版』(https://allendowney.github.io/ThinkPython/index.html)\n",
        "\n",
        "著作権 2024 [Allen B. Downey](https://allendowney.com)\n",
        "\n",
        "コードライセンス: [MITライセンス](https://mit-license.org/)\n",
        "\n",
        "テキストライセンス: [クリエイティブ・コモンズ 表示-非営利-継承4.0国際](https://creativecommons.org/licenses/by-nc-sa/4.0/)"
      ]
    }
  ],
  "metadata": {
    "celltoolbar": "Tags",
    "kernelspec": {
      "display_name": "Python 3 (ipykernel)",
      "language": "python",
      "name": "python3"
    },
    "language_info": {
      "codemirror_mode": {
        "name": "ipython",
        "version": 3
      },
      "file_extension": ".py",
      "mimetype": "text/x-python",
      "name": "python",
      "nbconvert_exporter": "python",
      "pygments_lexer": "ipython3",
      "version": "3.10.11"
    },
    "colab": {
      "provenance": [],
      "include_colab_link": true
    }
  },
  "nbformat": 4,
  "nbformat_minor": 5
}